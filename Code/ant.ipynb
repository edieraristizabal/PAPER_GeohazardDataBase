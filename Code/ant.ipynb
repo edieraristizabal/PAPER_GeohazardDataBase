{
 "cells": [
  {
   "cell_type": "code",
   "execution_count": 2,
   "id": "61c5afb9-ec4c-455d-80cd-cc88c2707a66",
   "metadata": {},
   "outputs": [],
   "source": [
    "import geopandas as gpd"
   ]
  },
  {
   "cell_type": "code",
   "execution_count": 3,
   "id": "7c127678-3584-4178-a41b-6c1bb3f50540",
   "metadata": {},
   "outputs": [],
   "source": [
    "db=gpd.read_file(\"../Data/ant_2024-07-02/Eventos_2024-07-02.shp\")"
   ]
  },
  {
   "cell_type": "code",
   "execution_count": 6,
   "id": "4db84b2e-219a-43fb-bc42-a70a99cf1a3e",
   "metadata": {},
   "outputs": [
    {
     "data": {
      "text/html": [
       "<div>\n",
       "<style scoped>\n",
       "    .dataframe tbody tr th:only-of-type {\n",
       "        vertical-align: middle;\n",
       "    }\n",
       "\n",
       "    .dataframe tbody tr th {\n",
       "        vertical-align: top;\n",
       "    }\n",
       "\n",
       "    .dataframe thead th {\n",
       "        text-align: right;\n",
       "    }\n",
       "</style>\n",
       "<table border=\"1\" class=\"dataframe\">\n",
       "  <thead>\n",
       "    <tr style=\"text-align: right;\">\n",
       "      <th></th>\n",
       "      <th>bd</th>\n",
       "      <th>id</th>\n",
       "      <th>Tipo</th>\n",
       "      <th>Fecha</th>\n",
       "      <th>Detonante</th>\n",
       "      <th>DetonanDes</th>\n",
       "      <th>Fuente</th>\n",
       "      <th>Subregion</th>\n",
       "      <th>Municipio</th>\n",
       "      <th>Pueblo</th>\n",
       "      <th>Sitio</th>\n",
       "      <th>Incertidumb</th>\n",
       "      <th>Norte</th>\n",
       "      <th>Este</th>\n",
       "      <th>Fallecidos</th>\n",
       "      <th>Economicas</th>\n",
       "      <th>Notas</th>\n",
       "      <th>geometry</th>\n",
       "    </tr>\n",
       "  </thead>\n",
       "  <tbody>\n",
       "    <tr>\n",
       "      <th>0</th>\n",
       "      <td>ant</td>\n",
       "      <td>8432.0</td>\n",
       "      <td>Landslide</td>\n",
       "      <td>2021-11-04</td>\n",
       "      <td>Unkown</td>\n",
       "      <td>NaN</td>\n",
       "      <td>Devimar</td>\n",
       "      <td>Occidente</td>\n",
       "      <td>CaÃ±asgordas</td>\n",
       "      <td>Vector El Madero</td>\n",
       "      <td>km 72 VÃ­a entre Santa Fe de Antioquia y CaÃ±a...</td>\n",
       "      <td>Low</td>\n",
       "      <td>69.718</td>\n",
       "      <td>-75.982</td>\n",
       "      <td>0.0</td>\n",
       "      <td>0</td>\n",
       "      <td>Cierre Total de la vÃ­a entre Santa Fe de Anti...</td>\n",
       "      <td>POINT (-75.98200 69.71800)</td>\n",
       "    </tr>\n",
       "    <tr>\n",
       "      <th>1</th>\n",
       "      <td>ant</td>\n",
       "      <td>8228.0</td>\n",
       "      <td>Flood</td>\n",
       "      <td>2021-03-01</td>\n",
       "      <td>Rainfall</td>\n",
       "      <td>NaN</td>\n",
       "      <td>DAGRAN</td>\n",
       "      <td>Suroeste</td>\n",
       "      <td>Urrao</td>\n",
       "      <td>Ocaido</td>\n",
       "      <td>Puntas de Ocaido</td>\n",
       "      <td>mid</td>\n",
       "      <td>6.239</td>\n",
       "      <td>-76.250</td>\n",
       "      <td>0.0</td>\n",
       "      <td>0</td>\n",
       "      <td>Se presentan inundaciones por desbordamiento d...</td>\n",
       "      <td>POINT (-76.25000 6.23900)</td>\n",
       "    </tr>\n",
       "  </tbody>\n",
       "</table>\n",
       "</div>"
      ],
      "text/plain": [
       "    bd      id       Tipo       Fecha Detonante DetonanDes   Fuente  \\\n",
       "0  ant  8432.0  Landslide  2021-11-04    Unkown        NaN  Devimar   \n",
       "1  ant  8228.0      Flood  2021-03-01  Rainfall        NaN   DAGRAN   \n",
       "\n",
       "   Subregion     Municipio            Pueblo  \\\n",
       "0  Occidente  CaÃ±asgordas  Vector El Madero   \n",
       "1   Suroeste         Urrao            Ocaido   \n",
       "\n",
       "                                               Sitio Incertidumb   Norte  \\\n",
       "0  km 72 VÃ­a entre Santa Fe de Antioquia y CaÃ±a...         Low  69.718   \n",
       "1                                   Puntas de Ocaido         mid   6.239   \n",
       "\n",
       "     Este  Fallecidos Economicas  \\\n",
       "0 -75.982         0.0          0   \n",
       "1 -76.250         0.0          0   \n",
       "\n",
       "                                               Notas  \\\n",
       "0  Cierre Total de la vÃ­a entre Santa Fe de Anti...   \n",
       "1  Se presentan inundaciones por desbordamiento d...   \n",
       "\n",
       "                     geometry  \n",
       "0  POINT (-75.98200 69.71800)  \n",
       "1   POINT (-76.25000 6.23900)  "
      ]
     },
     "execution_count": 6,
     "metadata": {},
     "output_type": "execute_result"
    }
   ],
   "source": [
    "db.head(2)"
   ]
  }
 ],
 "metadata": {
  "kernelspec": {
   "display_name": "ml",
   "language": "python",
   "name": "ml"
  },
  "language_info": {
   "codemirror_mode": {
    "name": "ipython",
    "version": 3
   },
   "file_extension": ".py",
   "mimetype": "text/x-python",
   "name": "python",
   "nbconvert_exporter": "python",
   "pygments_lexer": "ipython3",
   "version": "3.11.4"
  }
 },
 "nbformat": 4,
 "nbformat_minor": 5
}
