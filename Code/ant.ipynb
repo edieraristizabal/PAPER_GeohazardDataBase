{
 "cells": [
  {
   "cell_type": "code",
   "execution_count": 1,
   "id": "61c5afb9-ec4c-455d-80cd-cc88c2707a66",
   "metadata": {},
   "outputs": [],
   "source": [
    "import geopandas as gpd\n",
    "import pandas as pd\n",
    "import numpy as np\n",
    "import matplotlib.pyplot as plt\n",
    "pd.set_option('display.max_columns', None)\n",
    "pd.set_option('display.max_rows', None)"
   ]
  },
  {
   "cell_type": "code",
   "execution_count": 100,
   "id": "7c127678-3584-4178-a41b-6c1bb3f50540",
   "metadata": {},
   "outputs": [],
   "source": [
    "db=gpd.read_file(\"../Data/ant_28-07-2024/ant.shp\")"
   ]
  },
  {
   "cell_type": "code",
   "execution_count": 107,
   "id": "4db84b2e-219a-43fb-bc42-a70a99cf1a3e",
   "metadata": {
    "scrolled": true
   },
   "outputs": [
    {
     "name": "stdout",
     "output_type": "stream",
     "text": [
      "<class 'geopandas.geodataframe.GeoDataFrame'>\n",
      "RangeIndex: 5077 entries, 0 to 5076\n",
      "Data columns (total 20 columns):\n",
      " #   Column       Non-Null Count  Dtype   \n",
      "---  ------       --------------  -----   \n",
      " 0   bd           5077 non-null   object  \n",
      " 1   id           5077 non-null   float64 \n",
      " 2   Tipo         5077 non-null   object  \n",
      " 3   Subtipo      0 non-null      float64 \n",
      " 4   Fecha        5077 non-null   object  \n",
      " 5   Detonante    5076 non-null   object  \n",
      " 6   DetonanDes   4361 non-null   object  \n",
      " 7   Fuente       5074 non-null   object  \n",
      " 8   Subregion    4883 non-null   object  \n",
      " 9   Municipio    5077 non-null   object  \n",
      " 10  Pueblo       2158 non-null   object  \n",
      " 11  Sitio        4261 non-null   object  \n",
      " 12  Incertidumb  5077 non-null   object  \n",
      " 13  Norte        5077 non-null   float64 \n",
      " 14  Este         5077 non-null   float64 \n",
      " 15  Fallecidos   5077 non-null   float64 \n",
      " 16  Economicas   5077 non-null   object  \n",
      " 17  Notas        4175 non-null   object  \n",
      " 18  LinkFoto     0 non-null      float64 \n",
      " 19  geometry     5077 non-null   geometry\n",
      "dtypes: float64(6), geometry(1), object(13)\n",
      "memory usage: 793.4+ KB\n"
     ]
    }
   ],
   "source": [
    "db.info()"
   ]
  },
  {
   "cell_type": "code",
   "execution_count": 106,
   "id": "12e2b998-ba76-46c6-8250-9eeabeef6e79",
   "metadata": {},
   "outputs": [],
   "source": [
    "db[\"Fallecidos\"]=db[\"Fallecidos\"].astype(float)"
   ]
  },
  {
   "cell_type": "code",
   "execution_count": 108,
   "id": "a0641ce5-3a4d-45ec-b6c2-a26537a7920c",
   "metadata": {},
   "outputs": [],
   "source": [
    "#establecer la fecha como index\n",
    "dbi=db.set_index(pd.DatetimeIndex(db['Fecha']))\n",
    "dbi.sort_index(inplace=True)"
   ]
  },
  {
   "cell_type": "code",
   "execution_count": 113,
   "id": "bc764ed4-5f6e-443a-a68f-375713e01ac8",
   "metadata": {},
   "outputs": [],
   "source": [
    "dbr=dbi[dbi.index<\"2023-12-31\"]"
   ]
  },
  {
   "cell_type": "code",
   "execution_count": 114,
   "id": "143c2fc8-ce23-465a-85d6-7b65f11ce10c",
   "metadata": {},
   "outputs": [
    {
     "name": "stdout",
     "output_type": "stream",
     "text": [
      "<class 'geopandas.geodataframe.GeoDataFrame'>\n",
      "DatetimeIndex: 5039 entries, 1880-04-23 to 2023-10-14\n",
      "Data columns (total 20 columns):\n",
      " #   Column       Non-Null Count  Dtype   \n",
      "---  ------       --------------  -----   \n",
      " 0   bd           5039 non-null   object  \n",
      " 1   id           5039 non-null   float64 \n",
      " 2   Tipo         5039 non-null   object  \n",
      " 3   Subtipo      0 non-null      float64 \n",
      " 4   Fecha        5039 non-null   object  \n",
      " 5   Detonante    5039 non-null   object  \n",
      " 6   DetonanDes   4341 non-null   object  \n",
      " 7   Fuente       5039 non-null   object  \n",
      " 8   Subregion    4849 non-null   object  \n",
      " 9   Municipio    5039 non-null   object  \n",
      " 10  Pueblo       2122 non-null   object  \n",
      " 11  Sitio        4229 non-null   object  \n",
      " 12  Incertidumb  5039 non-null   object  \n",
      " 13  Norte        5039 non-null   float64 \n",
      " 14  Este         5039 non-null   float64 \n",
      " 15  Fallecidos   5039 non-null   float64 \n",
      " 16  Economicas   5039 non-null   object  \n",
      " 17  Notas        4168 non-null   object  \n",
      " 18  LinkFoto     0 non-null      float64 \n",
      " 19  geometry     5039 non-null   geometry\n",
      "dtypes: float64(6), geometry(1), object(13)\n",
      "memory usage: 826.7+ KB\n"
     ]
    }
   ],
   "source": [
    "dbr.info()"
   ]
  },
  {
   "cell_type": "code",
   "execution_count": 111,
   "id": "1c34704c-234c-4996-a1fb-ce9fbbcba8f2",
   "metadata": {},
   "outputs": [
    {
     "data": {
      "text/plain": [
       "4026.0"
      ]
     },
     "execution_count": 111,
     "metadata": {},
     "output_type": "execute_result"
    }
   ],
   "source": [
    "dbr[\"Fallecidos\"].sum()"
   ]
  },
  {
   "cell_type": "code",
   "execution_count": 115,
   "id": "c3c9c73f-07ce-49bd-b830-7c8c2ed7249e",
   "metadata": {},
   "outputs": [],
   "source": [
    "lan=dbr[(dbr[\"Tipo\"]==\"Landslide\")]\n",
    "tor=dbr[(dbr[\"Tipo\"]==\"Debris Flow\")]"
   ]
  },
  {
   "cell_type": "code",
   "execution_count": 116,
   "id": "bee91bfa-2034-4bb0-ad7e-b6304e8d4850",
   "metadata": {},
   "outputs": [
    {
     "name": "stdout",
     "output_type": "stream",
     "text": [
      "<class 'geopandas.geodataframe.GeoDataFrame'>\n",
      "DatetimeIndex: 3081 entries, 1900-01-01 to 2023-09-22\n",
      "Data columns (total 20 columns):\n",
      " #   Column       Non-Null Count  Dtype   \n",
      "---  ------       --------------  -----   \n",
      " 0   bd           3081 non-null   object  \n",
      " 1   id           3081 non-null   float64 \n",
      " 2   Tipo         3081 non-null   object  \n",
      " 3   Subtipo      0 non-null      float64 \n",
      " 4   Fecha        3081 non-null   object  \n",
      " 5   Detonante    3081 non-null   object  \n",
      " 6   DetonanDes   2629 non-null   object  \n",
      " 7   Fuente       3081 non-null   object  \n",
      " 8   Subregion    2925 non-null   object  \n",
      " 9   Municipio    3081 non-null   object  \n",
      " 10  Pueblo       1193 non-null   object  \n",
      " 11  Sitio        2635 non-null   object  \n",
      " 12  Incertidumb  3081 non-null   object  \n",
      " 13  Norte        3081 non-null   float64 \n",
      " 14  Este         3081 non-null   float64 \n",
      " 15  Fallecidos   3081 non-null   float64 \n",
      " 16  Economicas   3081 non-null   object  \n",
      " 17  Notas        2503 non-null   object  \n",
      " 18  LinkFoto     0 non-null      float64 \n",
      " 19  geometry     3081 non-null   geometry\n",
      "dtypes: float64(6), geometry(1), object(13)\n",
      "memory usage: 505.5+ KB\n"
     ]
    }
   ],
   "source": [
    "lan.info()"
   ]
  },
  {
   "cell_type": "code",
   "execution_count": 117,
   "id": "0f0903d5-a6e2-4add-9d3c-86d89c32b2b0",
   "metadata": {},
   "outputs": [
    {
     "name": "stdout",
     "output_type": "stream",
     "text": [
      "<class 'geopandas.geodataframe.GeoDataFrame'>\n",
      "DatetimeIndex: 1958 entries, 1880-04-23 to 2023-10-14\n",
      "Data columns (total 20 columns):\n",
      " #   Column       Non-Null Count  Dtype   \n",
      "---  ------       --------------  -----   \n",
      " 0   bd           1958 non-null   object  \n",
      " 1   id           1958 non-null   float64 \n",
      " 2   Tipo         1958 non-null   object  \n",
      " 3   Subtipo      0 non-null      float64 \n",
      " 4   Fecha        1958 non-null   object  \n",
      " 5   Detonante    1958 non-null   object  \n",
      " 6   DetonanDes   1712 non-null   object  \n",
      " 7   Fuente       1958 non-null   object  \n",
      " 8   Subregion    1924 non-null   object  \n",
      " 9   Municipio    1958 non-null   object  \n",
      " 10  Pueblo       929 non-null    object  \n",
      " 11  Sitio        1594 non-null   object  \n",
      " 12  Incertidumb  1958 non-null   object  \n",
      " 13  Norte        1958 non-null   float64 \n",
      " 14  Este         1958 non-null   float64 \n",
      " 15  Fallecidos   1958 non-null   float64 \n",
      " 16  Economicas   1958 non-null   object  \n",
      " 17  Notas        1665 non-null   object  \n",
      " 18  LinkFoto     0 non-null      float64 \n",
      " 19  geometry     1958 non-null   geometry\n",
      "dtypes: float64(6), geometry(1), object(13)\n",
      "memory usage: 321.2+ KB\n"
     ]
    }
   ],
   "source": [
    "tor.info()"
   ]
  },
  {
   "cell_type": "code",
   "execution_count": 123,
   "id": "f6e05f76-c943-453c-8857-ddd436d55cb8",
   "metadata": {},
   "outputs": [
    {
     "data": {
      "text/plain": [
       "0.14844215122048027"
      ]
     },
     "execution_count": 123,
     "metadata": {},
     "output_type": "execute_result"
    }
   ],
   "source": [
    "748/5039"
   ]
  },
  {
   "cell_type": "code",
   "execution_count": 122,
   "id": "67477353-2d6a-46fc-b6f6-25346612cab8",
   "metadata": {
    "scrolled": true
   },
   "outputs": [
    {
     "name": "stdout",
     "output_type": "stream",
     "text": [
      "<class 'geopandas.geodataframe.GeoDataFrame'>\n",
      "DatetimeIndex: 748 entries, 1880-04-23 to 2023-10-14\n",
      "Data columns (total 20 columns):\n",
      " #   Column       Non-Null Count  Dtype   \n",
      "---  ------       --------------  -----   \n",
      " 0   bd           748 non-null    object  \n",
      " 1   id           748 non-null    float64 \n",
      " 2   Tipo         748 non-null    object  \n",
      " 3   Subtipo      0 non-null      float64 \n",
      " 4   Fecha        748 non-null    object  \n",
      " 5   Detonante    748 non-null    object  \n",
      " 6   DetonanDes   509 non-null    object  \n",
      " 7   Fuente       748 non-null    object  \n",
      " 8   Subregion    558 non-null    object  \n",
      " 9   Municipio    748 non-null    object  \n",
      " 10  Pueblo       389 non-null    object  \n",
      " 11  Sitio        610 non-null    object  \n",
      " 12  Incertidumb  748 non-null    object  \n",
      " 13  Norte        748 non-null    float64 \n",
      " 14  Este         748 non-null    float64 \n",
      " 15  Fallecidos   748 non-null    float64 \n",
      " 16  Economicas   748 non-null    object  \n",
      " 17  Notas        601 non-null    object  \n",
      " 18  LinkFoto     0 non-null      float64 \n",
      " 19  geometry     748 non-null    geometry\n",
      "dtypes: float64(6), geometry(1), object(13)\n",
      "memory usage: 122.7+ KB\n"
     ]
    }
   ],
   "source": [
    "fat=dbr[dbr[\"Fallecidos\"]>0]\n",
    "fat.info()"
   ]
  },
  {
   "cell_type": "code",
   "execution_count": 124,
   "id": "3b12f8b8-fbaf-4935-b24b-e98f92ccede1",
   "metadata": {},
   "outputs": [
    {
     "name": "stdout",
     "output_type": "stream",
     "text": [
      "<class 'geopandas.geodataframe.GeoDataFrame'>\n",
      "DatetimeIndex: 544 entries, 1922-10-18 to 2023-09-09\n",
      "Data columns (total 20 columns):\n",
      " #   Column       Non-Null Count  Dtype   \n",
      "---  ------       --------------  -----   \n",
      " 0   bd           544 non-null    object  \n",
      " 1   id           544 non-null    float64 \n",
      " 2   Tipo         544 non-null    object  \n",
      " 3   Subtipo      0 non-null      float64 \n",
      " 4   Fecha        544 non-null    object  \n",
      " 5   Detonante    544 non-null    object  \n",
      " 6   DetonanDes   360 non-null    object  \n",
      " 7   Fuente       544 non-null    object  \n",
      " 8   Subregion    388 non-null    object  \n",
      " 9   Municipio    544 non-null    object  \n",
      " 10  Pueblo       293 non-null    object  \n",
      " 11  Sitio        448 non-null    object  \n",
      " 12  Incertidumb  544 non-null    object  \n",
      " 13  Norte        544 non-null    float64 \n",
      " 14  Este         544 non-null    float64 \n",
      " 15  Fallecidos   544 non-null    float64 \n",
      " 16  Economicas   544 non-null    object  \n",
      " 17  Notas        432 non-null    object  \n",
      " 18  LinkFoto     0 non-null      float64 \n",
      " 19  geometry     544 non-null    geometry\n",
      "dtypes: float64(6), geometry(1), object(13)\n",
      "memory usage: 89.2+ KB\n"
     ]
    }
   ],
   "source": [
    "fat=lan[lan[\"Fallecidos\"]>0]\n",
    "fat.info()"
   ]
  },
  {
   "cell_type": "code",
   "execution_count": 125,
   "id": "b56de1b5-f165-404f-a06f-65327061f7ab",
   "metadata": {},
   "outputs": [
    {
     "data": {
      "text/plain": [
       "0.7272727272727273"
      ]
     },
     "execution_count": 125,
     "metadata": {},
     "output_type": "execute_result"
    }
   ],
   "source": [
    "544/748"
   ]
  },
  {
   "cell_type": "code",
   "execution_count": 79,
   "id": "d8e46077-7b55-44c2-a89a-584ba55014a8",
   "metadata": {
    "scrolled": true
   },
   "outputs": [
    {
     "name": "stdout",
     "output_type": "stream",
     "text": [
      "<class 'geopandas.geodataframe.GeoDataFrame'>\n",
      "DatetimeIndex: 4851 entries, 1880-04-23 to 2023-09-22\n",
      "Data columns (total 18 columns):\n",
      " #   Column       Non-Null Count  Dtype   \n",
      "---  ------       --------------  -----   \n",
      " 0   bd           4851 non-null   object  \n",
      " 1   id           4851 non-null   float64 \n",
      " 2   Tipo         4851 non-null   object  \n",
      " 3   Fecha        4851 non-null   object  \n",
      " 4   Detonante    4851 non-null   object  \n",
      " 5   DetonanDes   4342 non-null   object  \n",
      " 6   Fuente       4851 non-null   object  \n",
      " 7   Subregion    4851 non-null   object  \n",
      " 8   Municipio    4851 non-null   object  \n",
      " 9   Pueblo       1934 non-null   object  \n",
      " 10  Sitio        4042 non-null   object  \n",
      " 11  Incertidumb  4851 non-null   object  \n",
      " 12  Norte        4851 non-null   float64 \n",
      " 13  Este         4851 non-null   float64 \n",
      " 14  Fallecidos   4851 non-null   float64 \n",
      " 15  Economicas   4851 non-null   object  \n",
      " 16  Notas        4054 non-null   object  \n",
      " 17  geometry     4851 non-null   geometry\n",
      "dtypes: float64(4), geometry(1), object(13)\n",
      "memory usage: 720.1+ KB\n"
     ]
    }
   ],
   "source": [
    "dbr.info()"
   ]
  },
  {
   "cell_type": "code",
   "execution_count": 126,
   "id": "ddee7cf8-ab5b-4ca7-85ac-b7a7611138a5",
   "metadata": {},
   "outputs": [
    {
     "data": {
      "text/plain": [
       "3024.0"
      ]
     },
     "execution_count": 126,
     "metadata": {},
     "output_type": "execute_result"
    }
   ],
   "source": [
    "lan[\"Fallecidos\"].sum()"
   ]
  },
  {
   "cell_type": "code",
   "execution_count": 127,
   "id": "a26b64bd-8db6-45d0-a7a7-6b8a3b4db54b",
   "metadata": {},
   "outputs": [
    {
     "data": {
      "text/plain": [
       "1002.0"
      ]
     },
     "execution_count": 127,
     "metadata": {},
     "output_type": "execute_result"
    }
   ],
   "source": [
    "tor[\"Fallecidos\"].sum()"
   ]
  },
  {
   "cell_type": "code",
   "execution_count": 128,
   "id": "ec2af284-a32a-42ed-97d3-93b6cf671ba9",
   "metadata": {},
   "outputs": [
    {
     "data": {
      "text/plain": [
       "0.7511177347242921"
      ]
     },
     "execution_count": 128,
     "metadata": {},
     "output_type": "execute_result"
    }
   ],
   "source": [
    "lan[\"Fallecidos\"].sum()/(lan[\"Fallecidos\"].sum()+tor[\"Fallecidos\"].sum())"
   ]
  },
  {
   "cell_type": "code",
   "execution_count": 82,
   "id": "07665054-e12a-4a81-9539-46b08aeb1cfa",
   "metadata": {},
   "outputs": [
    {
     "data": {
      "text/html": [
       "<div>\n",
       "<style scoped>\n",
       "    .dataframe tbody tr th:only-of-type {\n",
       "        vertical-align: middle;\n",
       "    }\n",
       "\n",
       "    .dataframe tbody tr th {\n",
       "        vertical-align: top;\n",
       "    }\n",
       "\n",
       "    .dataframe thead th {\n",
       "        text-align: right;\n",
       "    }\n",
       "</style>\n",
       "<table border=\"1\" class=\"dataframe\">\n",
       "  <thead>\n",
       "    <tr style=\"text-align: right;\">\n",
       "      <th></th>\n",
       "      <th>bd</th>\n",
       "      <th>id</th>\n",
       "      <th>Tipo</th>\n",
       "      <th>Fecha</th>\n",
       "      <th>Detonante</th>\n",
       "      <th>DetonanDes</th>\n",
       "      <th>Fuente</th>\n",
       "      <th>Subregion</th>\n",
       "      <th>Municipio</th>\n",
       "      <th>Pueblo</th>\n",
       "      <th>Sitio</th>\n",
       "      <th>Incertidumb</th>\n",
       "      <th>Norte</th>\n",
       "      <th>Este</th>\n",
       "      <th>Fallecidos</th>\n",
       "      <th>Economicas</th>\n",
       "      <th>Notas</th>\n",
       "      <th>geometry</th>\n",
       "    </tr>\n",
       "    <tr>\n",
       "      <th>Fecha</th>\n",
       "      <th></th>\n",
       "      <th></th>\n",
       "      <th></th>\n",
       "      <th></th>\n",
       "      <th></th>\n",
       "      <th></th>\n",
       "      <th></th>\n",
       "      <th></th>\n",
       "      <th></th>\n",
       "      <th></th>\n",
       "      <th></th>\n",
       "      <th></th>\n",
       "      <th></th>\n",
       "      <th></th>\n",
       "      <th></th>\n",
       "      <th></th>\n",
       "      <th></th>\n",
       "      <th></th>\n",
       "    </tr>\n",
       "  </thead>\n",
       "  <tbody>\n",
       "    <tr>\n",
       "      <th>2023-09-22</th>\n",
       "      <td>ant</td>\n",
       "      <td>8713.0</td>\n",
       "      <td>Landsalide</td>\n",
       "      <td>2023-09-22</td>\n",
       "      <td>Rainfall</td>\n",
       "      <td>Se presenta lluvias fuertes, por estos dÃ­as p...</td>\n",
       "      <td>Denuncias Antioquia</td>\n",
       "      <td>Occidente</td>\n",
       "      <td>San Jeronimo</td>\n",
       "      <td>San Sebastian</td>\n",
       "      <td>VÃ­a MedellÃ­n- San JerÃ³nimo, alrdedor de 3km...</td>\n",
       "      <td>Mid</td>\n",
       "      <td>6.36</td>\n",
       "      <td>-75.709</td>\n",
       "      <td>0.0</td>\n",
       "      <td>0</td>\n",
       "      <td>NaN</td>\n",
       "      <td>POINT (-75.70900 6.36000)</td>\n",
       "    </tr>\n",
       "  </tbody>\n",
       "</table>\n",
       "</div>"
      ],
      "text/plain": [
       "             bd      id        Tipo       Fecha Detonante  \\\n",
       "Fecha                                                       \n",
       "2023-09-22  ant  8713.0  Landsalide  2023-09-22  Rainfall   \n",
       "\n",
       "                                                   DetonanDes  \\\n",
       "Fecha                                                           \n",
       "2023-09-22  Se presenta lluvias fuertes, por estos dÃ­as p...   \n",
       "\n",
       "                         Fuente  Subregion     Municipio         Pueblo  \\\n",
       "Fecha                                                                     \n",
       "2023-09-22  Denuncias Antioquia  Occidente  San Jeronimo  San Sebastian   \n",
       "\n",
       "                                                        Sitio Incertidumb  \\\n",
       "Fecha                                                                       \n",
       "2023-09-22  VÃ­a MedellÃ­n- San JerÃ³nimo, alrdedor de 3km...         Mid   \n",
       "\n",
       "            Norte    Este  Fallecidos Economicas Notas  \\\n",
       "Fecha                                                    \n",
       "2023-09-22   6.36 -75.709         0.0          0   NaN   \n",
       "\n",
       "                             geometry  \n",
       "Fecha                                  \n",
       "2023-09-22  POINT (-75.70900 6.36000)  "
      ]
     },
     "execution_count": 82,
     "metadata": {},
     "output_type": "execute_result"
    }
   ],
   "source": [
    "dbr.tail(1)"
   ]
  },
  {
   "cell_type": "code",
   "execution_count": 97,
   "id": "8c2f3d43-629c-4244-9d89-9136e17323aa",
   "metadata": {},
   "outputs": [
    {
     "name": "stdout",
     "output_type": "stream",
     "text": [
      "Tipo\n",
      "Flood                   1435\n",
      "Landslide               2888\n",
      "Landslide and debris       1\n",
      "Rockfall                  36\n",
      "Torrential               489\n",
      "Name: id, dtype: int64\n"
     ]
    }
   ],
   "source": [
    "print(dbr.groupby(\"Tipo\").count().id)"
   ]
  },
  {
   "cell_type": "code",
   "execution_count": 48,
   "id": "e24b1574-4b8a-48e5-83ba-795f3f957b6a",
   "metadata": {},
   "outputs": [
    {
     "name": "stdout",
     "output_type": "stream",
     "text": [
      "Tipo\n",
      "Debris flow      5\n",
      "Earthquake       1\n",
      "Fall             1\n",
      "Flood           67\n",
      "Landslide      385\n",
      "Rockfall         2\n",
      "Torrential      99\n",
      "Name: id, dtype: int64\n"
     ]
    }
   ],
   "source": [
    "print(dbt.groupby(\"Tipo\").count().id)"
   ]
  },
  {
   "cell_type": "code",
   "execution_count": 50,
   "id": "3ac48484-1479-416e-97e8-94facc02963a",
   "metadata": {},
   "outputs": [
    {
     "data": {
      "text/plain": [
       "0.6928571428571428"
      ]
     },
     "execution_count": 50,
     "metadata": {},
     "output_type": "execute_result"
    }
   ],
   "source": [
    "104/560"
   ]
  },
  {
   "cell_type": "code",
   "execution_count": 98,
   "id": "638920d1-d940-4397-860e-588555ba48d9",
   "metadata": {},
   "outputs": [
    {
     "data": {
      "text/html": [
       "<div>\n",
       "<style scoped>\n",
       "    .dataframe tbody tr th:only-of-type {\n",
       "        vertical-align: middle;\n",
       "    }\n",
       "\n",
       "    .dataframe tbody tr th {\n",
       "        vertical-align: top;\n",
       "    }\n",
       "\n",
       "    .dataframe thead th {\n",
       "        text-align: right;\n",
       "    }\n",
       "</style>\n",
       "<table border=\"1\" class=\"dataframe\">\n",
       "  <thead>\n",
       "    <tr style=\"text-align: right;\">\n",
       "      <th></th>\n",
       "      <th>bd</th>\n",
       "      <th>id</th>\n",
       "      <th>Tipo</th>\n",
       "      <th>Fecha</th>\n",
       "      <th>Detonante</th>\n",
       "      <th>DetonanDes</th>\n",
       "      <th>Fuente</th>\n",
       "      <th>Subregion</th>\n",
       "      <th>Municipio</th>\n",
       "      <th>Pueblo</th>\n",
       "      <th>Sitio</th>\n",
       "      <th>Incertidumb</th>\n",
       "      <th>Norte</th>\n",
       "      <th>Este</th>\n",
       "      <th>Fallecidos</th>\n",
       "      <th>Economicas</th>\n",
       "      <th>Notas</th>\n",
       "      <th>geometry</th>\n",
       "    </tr>\n",
       "    <tr>\n",
       "      <th>Fecha</th>\n",
       "      <th></th>\n",
       "      <th></th>\n",
       "      <th></th>\n",
       "      <th></th>\n",
       "      <th></th>\n",
       "      <th></th>\n",
       "      <th></th>\n",
       "      <th></th>\n",
       "      <th></th>\n",
       "      <th></th>\n",
       "      <th></th>\n",
       "      <th></th>\n",
       "      <th></th>\n",
       "      <th></th>\n",
       "      <th></th>\n",
       "      <th></th>\n",
       "      <th></th>\n",
       "      <th></th>\n",
       "    </tr>\n",
       "  </thead>\n",
       "  <tbody>\n",
       "  </tbody>\n",
       "</table>\n",
       "</div>"
      ],
      "text/plain": [
       "Empty GeoDataFrame\n",
       "Columns: [bd, id, Tipo, Fecha, Detonante, DetonanDes, Fuente, Subregion, Municipio, Pueblo, Sitio, Incertidumb, Norte, Este, Fallecidos, Economicas, Notas, geometry]\n",
       "Index: []"
      ]
     },
     "execution_count": 98,
     "metadata": {},
     "output_type": "execute_result"
    }
   ],
   "source": [
    "land=dbt[(dbt[\"Tipo\"]==\"debris\")]\n",
    "land"
   ]
  },
  {
   "cell_type": "code",
   "execution_count": 17,
   "id": "9f8b93d4-9ee1-419a-b893-2ba393a23118",
   "metadata": {},
   "outputs": [
    {
     "name": "stdout",
     "output_type": "stream",
     "text": [
      "Subregion\n",
      "Bajo Cauca            88\n",
      "Magdalena Medio       87\n",
      "Nordeste             298\n",
      "Norte                297\n",
      "Occidente            437\n",
      "Oriente              601\n",
      "Suroeste             778\n",
      "UrabÃ¡               119\n",
      "Valle de AburrÃ¡    2166\n",
      "Name: id, dtype: int64\n"
     ]
    }
   ],
   "source": [
    "print(dbr.groupby(\"Subregion\").count().id)"
   ]
  },
  {
   "cell_type": "code",
   "execution_count": 46,
   "id": "0c3bed37-7850-45e7-9132-3034f341cd6e",
   "metadata": {},
   "outputs": [
    {
     "data": {
      "text/plain": [
       "0.11496612605214535"
      ]
     },
     "execution_count": 46,
     "metadata": {},
     "output_type": "execute_result"
    }
   ],
   "source": [
    "560/4871"
   ]
  },
  {
   "cell_type": "code",
   "execution_count": 18,
   "id": "a57d263f-40c2-4979-981c-88a35395a2c8",
   "metadata": {},
   "outputs": [
    {
     "data": {
      "text/plain": [
       "Tipo                  Fallecidos\n",
       "Debris                0.0              2\n",
       "Debris flow           0.0             14\n",
       "                      1.0              3\n",
       "                      3.0              1\n",
       "                      7.0              1\n",
       "Earthquake            0.0              5\n",
       "                      1.0              1\n",
       "Fall                  0.0             20\n",
       "                      1.0              1\n",
       "Fire                  0.0              3\n",
       "Flood                 0.0           1375\n",
       "                      1.0             33\n",
       "                      2.0             17\n",
       "                      3.0              3\n",
       "                      4.0              2\n",
       "                      5.0              5\n",
       "                      6.0              2\n",
       "                      8.0              1\n",
       "                      9.0              1\n",
       "                      20.0             1\n",
       "                      25.0             1\n",
       "                      45.0             1\n",
       "Forest fire           0.0             10\n",
       "Landlide              0.0              1\n",
       "Landsalide            0.0              1\n",
       "Landslide             0.0           2480\n",
       "                      1.0            151\n",
       "                      2.0             68\n",
       "                      3.0             57\n",
       "                      4.0             38\n",
       "                      5.0             19\n",
       "                      6.0              9\n",
       "                      7.0             15\n",
       "                      8.0              4\n",
       "                      10.0             1\n",
       "                      11.0             4\n",
       "                      12.0             2\n",
       "                      13.0             1\n",
       "                      14.0             1\n",
       "                      16.0             1\n",
       "                      18.0             1\n",
       "                      20.0             1\n",
       "                      22.0             1\n",
       "                      28.0             1\n",
       "                      30.0             1\n",
       "                      32.0             2\n",
       "                      37.0             1\n",
       "                      40.0             1\n",
       "                      50.0             1\n",
       "                      84.0             1\n",
       "                      100.0            2\n",
       "                      500.0            1\n",
       "Landslide and debris  0.0              1\n",
       "Rockfall              0.0             34\n",
       "                      2.0              1\n",
       "                      3.0              1\n",
       "Torrential            0.0            363\n",
       "                      1.0             35\n",
       "                      2.0             24\n",
       "                      3.0              9\n",
       "                      4.0              8\n",
       "                      5.0              3\n",
       "                      6.0              4\n",
       "                      8.0              2\n",
       "                      9.0              1\n",
       "                      10.0             4\n",
       "                      11.0             2\n",
       "                      13.0             1\n",
       "                      14.0             1\n",
       "                      15.0             1\n",
       "                      17.0             1\n",
       "                      20.0             1\n",
       "                      38.0             2\n",
       "Unknown               0.0              1\n",
       "Volcanic eruption     0.0              1\n",
       "Name: id, dtype: int64"
      ]
     },
     "execution_count": 18,
     "metadata": {},
     "output_type": "execute_result"
    }
   ],
   "source": [
    "tipoxfalle=dbr.groupby([\"Tipo\",\"Fallecidos\"]).count().id\n",
    "tipoxfalle"
   ]
  },
  {
   "cell_type": "code",
   "execution_count": 99,
   "id": "20265057-54b6-4ee6-989c-79e61abfc510",
   "metadata": {},
   "outputs": [
    {
     "data": {
      "text/plain": [
       "Tipo                  Subregion       \n",
       "Flood                 Bajo Cauca            38\n",
       "                      Magdalena Medio       17\n",
       "                      Nordeste              70\n",
       "                      Norte                 44\n",
       "                      Occidente             56\n",
       "                      Oriente               97\n",
       "                      Suroeste             148\n",
       "                      UrabÃ¡                71\n",
       "                      Valle de AburrÃ¡     894\n",
       "Landslide             Bajo Cauca            39\n",
       "                      Magdalena Medio       58\n",
       "                      Nordeste             196\n",
       "                      Norte                223\n",
       "                      Occidente            305\n",
       "                      Oriente              448\n",
       "                      Suroeste             547\n",
       "                      UrabÃ¡                32\n",
       "                      Valle de AburrÃ¡    1040\n",
       "Landslide and debris  Occidente              1\n",
       "Rockfall              Magdalena Medio        2\n",
       "                      Nordeste               2\n",
       "                      Occidente              7\n",
       "                      Oriente                3\n",
       "                      Suroeste               9\n",
       "                      Valle de AburrÃ¡      13\n",
       "Torrential            Bajo Cauca             9\n",
       "                      Magdalena Medio       10\n",
       "                      Nordeste              29\n",
       "                      Norte                 29\n",
       "                      Occidente             65\n",
       "                      Oriente               52\n",
       "                      Suroeste              72\n",
       "                      UrabÃ¡                11\n",
       "                      Valle de AburrÃ¡     212\n",
       "Name: id, dtype: int64"
      ]
     },
     "execution_count": 99,
     "metadata": {},
     "output_type": "execute_result"
    }
   ],
   "source": [
    "tipoxdep=dbr.groupby([\"Tipo\",\"Subregion\"]).count().id\n",
    "tipoxdep"
   ]
  },
  {
   "cell_type": "code",
   "execution_count": 13,
   "id": "1dae29f6-80a7-4426-9e21-70db8d5f18a7",
   "metadata": {},
   "outputs": [
    {
     "data": {
      "image/png": "[encoded data removed]",
      "text/plain": [
       "<Figure size 640x480 with 1 Axes>"
      ]
     },
     "metadata": {},
     "output_type": "display_data"
    }
   ],
   "source": [
    "fig, ax = plt.subplots()\n",
    "ax.plot(dbr[\"Fallecidos\"])\n",
    "plt.xlabel('Fecha')\n",
    "plt.ylabel('Muertes');"
   ]
  }
 ],
 "metadata": {
  "kernelspec": {
   "display_name": "ml",
   "language": "python",
   "name": "ml"
  },
  "language_info": {
   "codemirror_mode": {
    "name": "ipython",
    "version": 3
   },
   "file_extension": ".py",
   "mimetype": "text/x-python",
   "name": "python",
   "nbconvert_exporter": "python",
   "pygments_lexer": "ipython3",
   "version": "3.11.4"
  }
 },
 "nbformat": 4,
 "nbformat_minor": 5
}
