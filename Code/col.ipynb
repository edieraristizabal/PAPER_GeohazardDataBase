{
 "cells": [
  {
   "cell_type": "code",
   "execution_count": 1,
   "id": "2ae558fb-a1e0-408b-bda0-4f96e9685a2f",
   "metadata": {},
   "outputs": [],
   "source": [
    "import geopandas as gpd"
   ]
  },
  {
   "cell_type": "code",
   "execution_count": 2,
   "id": "0aae4268-7737-433c-9659-5b4a1f01d6f1",
   "metadata": {},
   "outputs": [],
   "source": [
    "db=gpd.read_file(\"../Data/col_2024-07-02/Eventos_2024-07-02.shp\")"
   ]
  },
  {
   "cell_type": "code",
   "execution_count": 3,
   "id": "89952fc6-a94c-4311-b25a-d9144d8f1d88",
   "metadata": {},
   "outputs": [
    {
     "data": {
      "text/html": [
       "<div>\n",
       "<style scoped>\n",
       "    .dataframe tbody tr th:only-of-type {\n",
       "        vertical-align: middle;\n",
       "    }\n",
       "\n",
       "    .dataframe tbody tr th {\n",
       "        vertical-align: top;\n",
       "    }\n",
       "\n",
       "    .dataframe thead th {\n",
       "        text-align: right;\n",
       "    }\n",
       "</style>\n",
       "<table border=\"1\" class=\"dataframe\">\n",
       "  <thead>\n",
       "    <tr style=\"text-align: right;\">\n",
       "      <th></th>\n",
       "      <th>bd</th>\n",
       "      <th>id</th>\n",
       "      <th>Tipo</th>\n",
       "      <th>Fecha</th>\n",
       "      <th>Detonante</th>\n",
       "      <th>Fuente</th>\n",
       "      <th>Departament</th>\n",
       "      <th>Municipio</th>\n",
       "      <th>Pueblo</th>\n",
       "      <th>Sitio</th>\n",
       "      <th>Incertidumb</th>\n",
       "      <th>Norte</th>\n",
       "      <th>Este</th>\n",
       "      <th>Fallecidos</th>\n",
       "      <th>Economicas</th>\n",
       "      <th>Notas</th>\n",
       "      <th>geometry</th>\n",
       "    </tr>\n",
       "  </thead>\n",
       "  <tbody>\n",
       "    <tr>\n",
       "      <th>0</th>\n",
       "      <td>col</td>\n",
       "      <td>681.0</td>\n",
       "      <td>Landslide</td>\n",
       "      <td>1982-08-27</td>\n",
       "      <td>Unknown</td>\n",
       "      <td>EL TIEMPO 1982-08-31</td>\n",
       "      <td>NariÃ±o</td>\n",
       "      <td>Pasto</td>\n",
       "      <td>Mina de piedra en el sitio  Alto Casanare</td>\n",
       "      <td>Mina de piedra en el sitio  Alto Casanare</td>\n",
       "      <td>Mid</td>\n",
       "      <td>5.758927</td>\n",
       "      <td>-71.572395</td>\n",
       "      <td>2.0</td>\n",
       "      <td>0</td>\n",
       "      <td>Tres obreros murieron y cuatro mas resultaron ...</td>\n",
       "      <td>POINT (-71.57240 5.75893)</td>\n",
       "    </tr>\n",
       "    <tr>\n",
       "      <th>1</th>\n",
       "      <td>col</td>\n",
       "      <td>943.0</td>\n",
       "      <td>Landslide</td>\n",
       "      <td>1996-07-09</td>\n",
       "      <td>Rainfall</td>\n",
       "      <td>Unknown</td>\n",
       "      <td>Antioquia</td>\n",
       "      <td>San Pedro de los Milagros</td>\n",
       "      <td>Quebrada Matasanos</td>\n",
       "      <td>Quebrada Matasanos</td>\n",
       "      <td>Mid</td>\n",
       "      <td>6.459614</td>\n",
       "      <td>-75.559739</td>\n",
       "      <td>4.0</td>\n",
       "      <td>0</td>\n",
       "      <td>NaN</td>\n",
       "      <td>POINT (-75.55974 6.45961)</td>\n",
       "    </tr>\n",
       "  </tbody>\n",
       "</table>\n",
       "</div>"
      ],
      "text/plain": [
       "    bd     id       Tipo       Fecha Detonante                Fuente  \\\n",
       "0  col  681.0  Landslide  1982-08-27   Unknown  EL TIEMPO 1982-08-31   \n",
       "1  col  943.0  Landslide  1996-07-09  Rainfall               Unknown   \n",
       "\n",
       "  Departament                  Municipio  \\\n",
       "0     NariÃ±o                      Pasto   \n",
       "1   Antioquia  San Pedro de los Milagros   \n",
       "\n",
       "                                      Pueblo  \\\n",
       "0  Mina de piedra en el sitio  Alto Casanare   \n",
       "1                         Quebrada Matasanos   \n",
       "\n",
       "                                       Sitio Incertidumb     Norte       Este  \\\n",
       "0  Mina de piedra en el sitio  Alto Casanare         Mid  5.758927 -71.572395   \n",
       "1                         Quebrada Matasanos         Mid  6.459614 -75.559739   \n",
       "\n",
       "   Fallecidos Economicas                                              Notas  \\\n",
       "0         2.0          0  Tres obreros murieron y cuatro mas resultaron ...   \n",
       "1         4.0          0                                                NaN   \n",
       "\n",
       "                    geometry  \n",
       "0  POINT (-71.57240 5.75893)  \n",
       "1  POINT (-75.55974 6.45961)  "
      ]
     },
     "execution_count": 3,
     "metadata": {},
     "output_type": "execute_result"
    }
   ],
   "source": [
    "db.head(2)"
   ]
  },
  {
   "cell_type": "code",
   "execution_count": null,
   "id": "2864cdbf-79fa-4a3b-a906-0c7ad5198bca",
   "metadata": {},
   "outputs": [],
   "source": []
  }
 ],
 "metadata": {
  "kernelspec": {
   "display_name": "ml",
   "language": "python",
   "name": "ml"
  },
  "language_info": {
   "codemirror_mode": {
    "name": "ipython",
    "version": 3
   },
   "file_extension": ".py",
   "mimetype": "text/x-python",
   "name": "python",
   "nbconvert_exporter": "python",
   "pygments_lexer": "ipython3",
   "version": "3.11.4"
  }
 },
 "nbformat": 4,
 "nbformat_minor": 5
}
